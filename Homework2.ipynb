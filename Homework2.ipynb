{
  "cells": [
    {
      "cell_type": "code",
      "execution_count": 2,
      "metadata": {
        "colab": {
          "base_uri": "https://localhost:8080/"
        },
        "id": "fah9XYnO0pNs",
        "outputId": "ddc36e5a-fa9d-4281-a5fa-1a1a12808f71"
      },
      "outputs": [
        {
          "output_type": "stream",
          "name": "stdout",
          "text": [
            "Mounted at /content/drive\n"
          ]
        }
      ],
      "source": [
        "from google.colab import drive\n",
        "drive.mount('/content/drive')"
      ]
    },
    {
      "cell_type": "markdown",
      "metadata": {
        "id": "wLpWFcD-cFyC"
      },
      "source": [
        "### (6 points) Create your class that implements the Gradient Boosting concept, based on the locally weighted regression method (Lowess class), and that allows a user-prescribed number of boosting steps. The class you develop should have all the mainstream useful options, including “fit,” “is_fitted”,  and “predict,” methods.  Show applications with real data for regression, 10-fold cross-validations and compare the effect of different scalers, such as the “StandardScaler”, “MinMaxScaler”, and the “QuantileScaler”.  In the case of the “Concrete” data set, determine a choice of hyperparameters that yield lower MSEs for your method when compared to the eXtream Gradient Boosting library.\n"
      ]
    },
    {
      "cell_type": "code",
      "execution_count": 17,
      "metadata": {
        "colab": {
          "base_uri": "https://localhost:8080/"
        },
        "id": "bcoQpV4fpGyj",
        "outputId": "003f335d-bc81-4a45-ecac-36b22cc80aa1"
      },
      "outputs": [
        {
          "output_type": "stream",
          "name": "stdout",
          "text": [
            "\n",
            "Working with: StandardScaler\n",
            "The Cross-validated Mean Squared Error for Locally Weighted Regression is: 156.99172896515552\n",
            "The Cross-validated Mean Squared Error for XGBRegressor: 23.24156551207661\n",
            "\n",
            "Working with: MinMaxScaler\n",
            "The Cross-validated Mean Squared Error for Locally Weighted Regression is: 45.41168269427634\n",
            "The Cross-validated Mean Squared Error for XGBRegressor: 23.24156551207661\n",
            "\n",
            "Working with: QuantileScaler\n",
            "The Cross-validated Mean Squared Error for Locally Weighted Regression is: 25.586964609565683\n",
            "The Cross-validated Mean Squared Error for XGBRegressor: 23.24156551207661\n"
          ]
        }
      ],
      "source": [
        "import numpy as np\n",
        "import pandas as pd\n",
        "from xgboost import XGBRegressor\n",
        "from sklearn import linear_model\n",
        "from sklearn.preprocessing import StandardScaler, MinMaxScaler, QuantileTransformer\n",
        "from scipy.spatial import Delaunay\n",
        "from sklearn.ensemble import RandomForestRegressor\n",
        "from sklearn.model_selection import KFold, GridSearchCV\n",
        "from sklearn.metrics import mean_squared_error as mse\n",
        "from scipy import linalg\n",
        "from scipy.interpolate import interp1d, LinearNDInterpolator, NearestNDInterpolator\n",
        "from sklearn.decomposition import PCA\n",
        "from scipy.spatial.distance import cdist\n",
        "from sklearn.pipeline import make_pipeline\n",
        "from sklearn.model_selection import GridSearchCV\n",
        "import xgboost as xgb\n",
        "from sklearn.metrics import r2_score\n",
        "import warnings\n",
        "from sklearn import linear_model\n",
        "warnings.filterwarnings('ignore', category=DeprecationWarning)\n",
        "\n",
        "# the following line(s) are necessary if you want to make SKlearn compliant functions\n",
        "from sklearn.base import BaseEstimator, RegressorMixin\n",
        "from sklearn.utils.validation import check_X_y, check_array, check_is_fitted\n",
        "\n",
        "#The above is the imports straight from the notebooks\n",
        "\n",
        "data = pd.read_csv('drive/MyDrive/Gelila_WM/DATA_441/Data_Sets/concrete.csv')\n",
        "\n",
        "x = data.loc[:,'cement':'age'].values\n",
        "y = data['strength'].values\n",
        "\n",
        "# Gaussian Kernel\n",
        "def Gaussian(x):\n",
        "  return np.where(np.abs(x)>4,0,1/(np.sqrt(2*np.pi))*np.exp(-1/2*x**2))\n",
        "\n",
        "# this is the correct vectorized version\n",
        "def Tricubic(x):\n",
        "  return np.where(np.abs(x)>1,0,(1-np.abs(x)**3)**3)\n",
        "\n",
        "# Epanechnikov Kernel\n",
        "def Epanechnikov(x):\n",
        "  return np.where(np.abs(x)>1,0,3/4*(1-np.abs(x)**2))\n",
        "\n",
        "# Quartic Kernel\n",
        "def Quartic(x):\n",
        "  return np.where(np.abs(x)>1,0,15/16*(1-np.abs(x)**2)**2)\n",
        "\n",
        "def weight_function(u,v,kern=Gaussian,tau=0.5):\n",
        "    return kern(cdist(u, v, metric='euclidean')/(2*tau))\n",
        "\n",
        "#The function below is called The Lowess Class - Version without Triangulation\n",
        "#This is from Efficient_Applications_with_Distances, Weights and Boosting.ipynb\n",
        "\n",
        "#This is the Lowess Class I will be using without Triangulation!!!!\n",
        "class Lowess:\n",
        "    def __init__(self, kernel = Gaussian, tau=0.05):\n",
        "        self.kernel = kernel\n",
        "        self.tau = tau\n",
        "\n",
        "    def fit(self, x, y):\n",
        "        kernel = self.kernel\n",
        "        tau = self.tau\n",
        "        self.xtrain_ = x\n",
        "        self.yhat_ = y\n",
        "\n",
        "    def predict(self, x_new):\n",
        "        check_is_fitted(self)\n",
        "        x = self.xtrain_\n",
        "        y = self.yhat_\n",
        "        lm = linear_model.Ridge(alpha=0.0001)\n",
        "        w = weight_function(x,x_new,self.kernel,self.tau)\n",
        "\n",
        "        if np.isscalar(x_new):\n",
        "          lm.fit(np.diag(w)@(x.reshape(-1,1)),np.diag(w)@(y.reshape(-1,1)))\n",
        "          yest = lm.predict([[x_new]])[0][0]\n",
        "        else:\n",
        "          n = len(x_new)\n",
        "          yest_test = []\n",
        "          #Looping through all x-points\n",
        "          for i in range(n):\n",
        "            lm.fit(np.diag(w[:,i])@x,np.diag(w[:,i])@y)\n",
        "            yest_test.append(lm.predict([x_new[i]]))\n",
        "        return np.array(yest_test).flatten()\n",
        "\n",
        "\n",
        "class GradientBoostingLowess(BaseEstimator, RegressorMixin):\n",
        "    def __init__(self, n_estimators=100, learning_rate=0.1, base_estimator=None, kernel=Gaussian, tau=0.05):\n",
        "        self.n_estimators = n_estimators\n",
        "        self.learning_rate = learning_rate\n",
        "        self.base_estimator = base_estimator\n",
        "        self.kernel = kernel\n",
        "        self.tau = tau\n",
        "        self.estimators_ = []\n",
        "\n",
        "    def fit(self, X, y):\n",
        "        X, y = check_X_y(X, y)\n",
        "        self.X_ = X\n",
        "        self.y_ = y\n",
        "        self.is_fitted_ = True\n",
        "\n",
        "        for _ in range(self.n_estimators):\n",
        "            # Compute pseudo-residuals\n",
        "            residuals = y - self.predict(X)\n",
        "\n",
        "            # Fit a base estimator to the pseudo-residuals\n",
        "            estimator = self.base_estimator\n",
        "            est = estimator.fit(X, residuals)\n",
        "\n",
        "            # Add the estimator to the list of estimators\n",
        "            self.estimators_.append(est)\n",
        "\n",
        "            # Update predictions with a scaled version of the new estimator\n",
        "            y_pred = self.predict(X)\n",
        "            y += self.learning_rate * est.predict(X)\n",
        "\n",
        "        return self\n",
        "\n",
        "    def predict(self, X):\n",
        "        check_is_fitted(self)\n",
        "        y_pred = np.zeros(len(X))\n",
        "\n",
        "        for est in self.estimators_:\n",
        "            y_pred += self.learning_rate * est.predict(X)\n",
        "\n",
        "        return y_pred\n",
        "\n",
        "    def is_fitted(self):\n",
        "        return hasattr(self, 'is_fitted_') and self.is_fitted_\n",
        "\n",
        "from sklearn.model_selection import cross_val_score\n",
        "\n",
        "#Dictionary of scalers\n",
        "scalers = {\n",
        "    'StandardScaler': StandardScaler(),\n",
        "    'MinMaxScaler': MinMaxScaler(),\n",
        "    'QuantileScaler': QuantileTransformer(output_distribution='uniform')\n",
        "}\n",
        "\n",
        "# Iterate through different scalers\n",
        "for scaler_name, scaler in scalers.items():\n",
        "    print(f\"\\nWorking with: {scaler_name}\")\n",
        "\n",
        "    # Scale the data using the current scaler\n",
        "    x_scaled = scaler.fit_transform(x)\n",
        "\n",
        "    mse_lwr = []\n",
        "    mse_rf = []\n",
        "    kf = KFold(n_splits=10, shuffle=True, random_state=1234)\n",
        "    model_rf = XGBRegressor(objective='reg:squarederror', n_estimators=50, reg_lambda=1, alpha=1, gamma=0.1, max_depth=3)\n",
        "    model_1 = Lowess(kernel=Epanechnikov, tau=0.4)\n",
        "    model_2 = Lowess(kernel=Epanechnikov, tau=0.4)\n",
        "\n",
        "    for idxtrain, idxtest in kf.split(x):\n",
        "        xtrain = x_scaled[idxtrain]\n",
        "        ytrain = y[idxtrain].ravel()\n",
        "        ytest = y[idxtest].ravel()\n",
        "        xtest = x_scaled[idxtest]\n",
        "\n",
        "        # Fit Lowess model on training data\n",
        "        model_1.fit(xtrain, ytrain)\n",
        "        yhat_train = model_1.predict(xtrain)\n",
        "        residuals_train = ytrain - yhat_train\n",
        "\n",
        "        # Fit second Lowess model on residuals\n",
        "        model_2.fit(xtrain, residuals_train)\n",
        "\n",
        "        # Predict using both models on test data\n",
        "        residuals_hat = model_2.predict(xtest)\n",
        "        yhat_lw = model_1.predict(xtest) + residuals_hat\n",
        "\n",
        "        # Fit XGBRegressor on training data\n",
        "        model_rf.fit(xtrain, ytrain)\n",
        "\n",
        "        # Predict using XGBRegressor on test data\n",
        "        yhat_rf = model_rf.predict(xtest)\n",
        "\n",
        "        # Calculate MSE for Locally Weighted Regression and XGBRegressor\n",
        "        mse_lwr.append(mse(ytest, yhat_lw))\n",
        "        mse_rf.append(mse(ytest, yhat_rf))\n",
        "\n",
        "    print('The Cross-validated Mean Squared Error for Locally Weighted Regression is: ' + str(np.mean(mse_lwr)))\n",
        "    print('The Cross-validated Mean Squared Error for XGBRegressor: ' + str(np.mean(mse_rf)))\n"
      ]
    },
    {
      "cell_type": "markdown",
      "source": [
        "Based on this, I have realized now that the choice of scaling method can significantly impact the performance of Locally Weighted Regression. It seems that **MinMaxScaler and QuantileScaler** perform much better than Lowess in this context. However, the XGBRegressor's performance remains relatively consistent across different scaling methods, indicating that it's quite stubborn to changes in scaling!"
      ],
      "metadata": {
        "id": "hdNc6K-dHfAV"
      }
    },
    {
      "cell_type": "markdown",
      "metadata": {
        "id": "w5xRxI-kcNBm"
      },
      "source": [
        "### (3 points) Based on the Usearch library, create your own class that computes the k_Nearest Neighbors for Regression."
      ]
    },
    {
      "cell_type": "code",
      "execution_count": 50,
      "metadata": {
        "colab": {
          "base_uri": "https://localhost:8080/"
        },
        "id": "3nUXbD-O0vL1",
        "outputId": "4bd3f0ca-0217-4acb-9668-0176a603dde8"
      },
      "outputs": [
        {
          "output_type": "stream",
          "name": "stdout",
          "text": [
            "Requirement already satisfied: usearch in /usr/local/lib/python3.10/dist-packages (2.9.1)\n",
            "Requirement already satisfied: numpy in /usr/local/lib/python3.10/dist-packages (from usearch) (1.25.2)\n",
            "Requirement already satisfied: tqdm in /usr/local/lib/python3.10/dist-packages (from usearch) (4.66.2)\n"
          ]
        }
      ],
      "source": [
        "!pip install usearch"
      ]
    },
    {
      "cell_type": "code",
      "source": [
        "import numpy as np\n",
        "import pandas as pd\n",
        "from sklearn.model_selection import train_test_split\n",
        "from sklearn.metrics import mean_squared_error, r2_score\n",
        "from usearch.index import Index, MetricKind, search\n",
        "\n",
        "\n",
        "x = data.drop(columns=['strength']).values\n",
        "y = data['strength'].values\n",
        "\n",
        "# Split the data into training and testing sets\n",
        "x_train, x_test, y_train, y_test = train_test_split(x, y, test_size=0.2, random_state=42)\n",
        "\n",
        "\n",
        "knn_regressor = KNNRegressor(k=3)\n",
        "knn_regressor.fit(x_train, y_train)\n",
        "\n",
        "\n",
        "y_pred = knn_regressor.predict(x_test)\n",
        "\n",
        "\n",
        "mse = mean_squared_error(y_test, y_pred)\n",
        "r2 = r2_score(y_test, y_pred)\n",
        "\n",
        "\n",
        "print(f'Adjusted Mean Squared Error with k=3: {mse:.4f}')\n",
        "print(f'Adjusted R-squared with k=3: {r2:.4f}')\n"
      ],
      "metadata": {
        "colab": {
          "base_uri": "https://localhost:8080/"
        },
        "id": "dEPOnmy1Mrhw",
        "outputId": "a7afc11f-4279-4bc6-eb9a-a92900ffee17"
      },
      "execution_count": 51,
      "outputs": [
        {
          "output_type": "stream",
          "name": "stdout",
          "text": [
            "Adjusted Mean Squared Error with k=3: 80.7602\n",
            "Adjusted R-squared with k=3: 0.6866\n"
          ]
        }
      ]
    },
    {
      "cell_type": "code",
      "source": [],
      "metadata": {
        "id": "1BOmGtN1JvJE"
      },
      "execution_count": 49,
      "outputs": []
    },
    {
      "cell_type": "code",
      "execution_count": 49,
      "metadata": {
        "id": "XoYV5Jn60vQS"
      },
      "outputs": [],
      "source": []
    },
    {
      "cell_type": "code",
      "execution_count": 49,
      "metadata": {
        "id": "2WzOgASj0vN7"
      },
      "outputs": [],
      "source": []
    },
    {
      "cell_type": "code",
      "execution_count": 49,
      "metadata": {
        "id": "kioeevwK0vSP"
      },
      "outputs": [],
      "source": []
    },
    {
      "cell_type": "code",
      "execution_count": null,
      "metadata": {
        "id": "tBsDDbS70vYv"
      },
      "outputs": [],
      "source": []
    },
    {
      "cell_type": "code",
      "execution_count": null,
      "metadata": {
        "id": "EMwl0GoQ0vWh"
      },
      "outputs": [],
      "source": []
    },
    {
      "cell_type": "code",
      "execution_count": null,
      "metadata": {
        "id": "Lqa9v4Dk0vdL"
      },
      "outputs": [],
      "source": []
    },
    {
      "cell_type": "code",
      "execution_count": null,
      "metadata": {
        "id": "rsvh6LhZ0vfg"
      },
      "outputs": [],
      "source": []
    },
    {
      "cell_type": "code",
      "execution_count": null,
      "metadata": {
        "id": "ZKDoXCP60vhm"
      },
      "outputs": [],
      "source": []
    },
    {
      "cell_type": "code",
      "execution_count": null,
      "metadata": {
        "id": "IL34YiRG0vj6"
      },
      "outputs": [],
      "source": []
    },
    {
      "cell_type": "code",
      "execution_count": null,
      "metadata": {
        "id": "NUmaD_QAcNSF"
      },
      "outputs": [],
      "source": []
    }
  ],
  "metadata": {
    "colab": {
      "provenance": []
    },
    "kernelspec": {
      "display_name": "Python 3",
      "name": "python3"
    },
    "language_info": {
      "name": "python"
    }
  },
  "nbformat": 4,
  "nbformat_minor": 0
}